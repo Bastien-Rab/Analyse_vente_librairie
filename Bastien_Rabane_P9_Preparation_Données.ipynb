{
 "cells": [
  {
   "cell_type": "markdown",
   "id": "7c0d6987",
   "metadata": {},
   "source": [
    "# SOMMAIRE"
   ]
  },
  {
   "cell_type": "markdown",
   "id": "d6ef0bd6",
   "metadata": {},
   "source": [
    "1. [Importation des bibliothèques et des données](#Importation-des-bibliothèques-et-des-données)\n",
    "2. [Analyse et nettoyage des données](#Analyse-et-nettoyage-des-données)\n",
    "    1. [Exploration CUSTOMERS](#Exporation-CUSTOMERS)\n",
    "    2. [Exploration PRODUCTS](#Exploration-PRODUCTS)\n",
    "    3. [Exploration TRANSACTIONS](#Exploration-TRANSACTIONS)\n",
    "3. [Création du dataframe final](#Création-du-dataframe-final)"
   ]
  },
  {
   "cell_type": "markdown",
   "id": "275c96a5",
   "metadata": {},
   "source": [
    "## Importation des bibliothèques et des données"
   ]
  },
  {
   "cell_type": "code",
   "execution_count": 1,
   "id": "431477ac",
   "metadata": {},
   "outputs": [],
   "source": [
    "#importation des bibliothèques necessaires\n",
    "import pandas as pd\n",
    "import matplotlib.pyplot as plt\n",
    "import numpy as np\n",
    "from datetime import datetime\n",
    "import seaborn as sns"
   ]
  },
  {
   "cell_type": "code",
   "execution_count": 2,
   "id": "a34c7337",
   "metadata": {},
   "outputs": [],
   "source": [
    "#importation de la data\n",
    "\n",
    "customers = pd.read_csv ('customers.csv', sep=';')\n",
    "products = pd.read_csv ('products.csv', sep=';')\n",
    "transactions = pd.read_csv ('transactions.csv', sep=';', dtype=str, low_memory=False)\n",
    "transactions['date'] = pd.to_datetime(transactions['date'], format='%Y-%m-%d %H:%M:%S.%f')"
   ]
  },
  {
   "cell_type": "markdown",
   "id": "15c5ce75",
   "metadata": {},
   "source": [
    "## Analyse et nettoyage des données"
   ]
  },
  {
   "cell_type": "markdown",
   "id": "9400f156",
   "metadata": {},
   "source": [
    "### Exporation CUSTOMERS"
   ]
  },
  {
   "cell_type": "code",
   "execution_count": 3,
   "id": "47d61205",
   "metadata": {},
   "outputs": [
    {
     "name": "stdout",
     "output_type": "stream",
     "text": [
      "Customers a 8621 lignes et 3 colonnes.\n"
     ]
    }
   ],
   "source": [
    "#Taille du dataset\n",
    "pd.DataFrame(customers)\n",
    "print(f\"Customers a {customers.shape[0]} lignes et {customers.shape[1]} colonnes.\")"
   ]
  },
  {
   "cell_type": "code",
   "execution_count": 4,
   "id": "1daca438",
   "metadata": {},
   "outputs": [
    {
     "data": {
      "text/html": [
       "<div>\n",
       "<style scoped>\n",
       "    .dataframe tbody tr th:only-of-type {\n",
       "        vertical-align: middle;\n",
       "    }\n",
       "\n",
       "    .dataframe tbody tr th {\n",
       "        vertical-align: top;\n",
       "    }\n",
       "\n",
       "    .dataframe thead th {\n",
       "        text-align: right;\n",
       "    }\n",
       "</style>\n",
       "<table border=\"1\" class=\"dataframe\">\n",
       "  <thead>\n",
       "    <tr style=\"text-align: right;\">\n",
       "      <th></th>\n",
       "      <th>client_id</th>\n",
       "      <th>sex</th>\n",
       "      <th>birth</th>\n",
       "    </tr>\n",
       "  </thead>\n",
       "  <tbody>\n",
       "    <tr>\n",
       "      <th>0</th>\n",
       "      <td>c_4410</td>\n",
       "      <td>f</td>\n",
       "      <td>1967</td>\n",
       "    </tr>\n",
       "    <tr>\n",
       "      <th>1</th>\n",
       "      <td>c_7839</td>\n",
       "      <td>f</td>\n",
       "      <td>1975</td>\n",
       "    </tr>\n",
       "    <tr>\n",
       "      <th>2</th>\n",
       "      <td>c_1699</td>\n",
       "      <td>f</td>\n",
       "      <td>1984</td>\n",
       "    </tr>\n",
       "    <tr>\n",
       "      <th>3</th>\n",
       "      <td>c_5961</td>\n",
       "      <td>f</td>\n",
       "      <td>1962</td>\n",
       "    </tr>\n",
       "    <tr>\n",
       "      <th>4</th>\n",
       "      <td>c_5320</td>\n",
       "      <td>m</td>\n",
       "      <td>1943</td>\n",
       "    </tr>\n",
       "  </tbody>\n",
       "</table>\n",
       "</div>"
      ],
      "text/plain": [
       "  client_id sex  birth\n",
       "0    c_4410   f   1967\n",
       "1    c_7839   f   1975\n",
       "2    c_1699   f   1984\n",
       "3    c_5961   f   1962\n",
       "4    c_5320   m   1943"
      ]
     },
     "execution_count": 4,
     "metadata": {},
     "output_type": "execute_result"
    }
   ],
   "source": [
    "customers.head(5)"
   ]
  },
  {
   "cell_type": "code",
   "execution_count": 5,
   "id": "da526fa8",
   "metadata": {},
   "outputs": [
    {
     "data": {
      "text/plain": [
       "client_id    object\n",
       "sex          object\n",
       "birth         int64\n",
       "dtype: object"
      ]
     },
     "execution_count": 5,
     "metadata": {},
     "output_type": "execute_result"
    }
   ],
   "source": [
    "# Vérifier le type des colonnes\n",
    "customers.dtypes"
   ]
  },
  {
   "cell_type": "code",
   "execution_count": 6,
   "id": "174f08dc",
   "metadata": {},
   "outputs": [
    {
     "data": {
      "text/plain": [
       "client_id    0\n",
       "sex          0\n",
       "birth        0\n",
       "dtype: int64"
      ]
     },
     "execution_count": 6,
     "metadata": {},
     "output_type": "execute_result"
    }
   ],
   "source": [
    "# Vérifier les valeurs manquantes\n",
    "customers.isnull().sum()"
   ]
  },
  {
   "cell_type": "code",
   "execution_count": 7,
   "id": "a747c19f",
   "metadata": {},
   "outputs": [
    {
     "data": {
      "text/plain": [
       "<bound method DataFrame.info of      client_id sex  birth\n",
       "0       c_4410   f   1967\n",
       "1       c_7839   f   1975\n",
       "2       c_1699   f   1984\n",
       "3       c_5961   f   1962\n",
       "4       c_5320   m   1943\n",
       "...        ...  ..    ...\n",
       "8616    c_7920   m   1956\n",
       "8617    c_7403   f   1970\n",
       "8618    c_5119   m   1974\n",
       "8619    c_5643   f   1968\n",
       "8620      c_84   f   1982\n",
       "\n",
       "[8621 rows x 3 columns]>"
      ]
     },
     "execution_count": 7,
     "metadata": {},
     "output_type": "execute_result"
    }
   ],
   "source": [
    "customers.info"
   ]
  },
  {
   "cell_type": "code",
   "execution_count": 8,
   "id": "9c329b1f",
   "metadata": {},
   "outputs": [
    {
     "data": {
      "text/plain": [
       "False"
      ]
     },
     "execution_count": 8,
     "metadata": {},
     "output_type": "execute_result"
    }
   ],
   "source": [
    "customers.duplicated().any()"
   ]
  },
  {
   "cell_type": "code",
   "execution_count": 9,
   "id": "d6db1971",
   "metadata": {},
   "outputs": [
    {
     "name": "stdout",
     "output_type": "stream",
     "text": [
      "La clé 'client_id' est unique et le nombre de lignes uniques (8621) correspond au nombre total de lignes (8621).\n"
     ]
    }
   ],
   "source": [
    "def verifier_unicite(df, cle):\n",
    "    total_lignes = len(df)\n",
    "    lignes_uniques = df[cle].nunique()\n",
    "\n",
    "    if lignes_uniques == total_lignes:\n",
    "        return f\"La clé '{cle}' est unique et le nombre de lignes uniques ({lignes_uniques}) correspond au nombre total de lignes ({total_lignes}).\"\n",
    "    else:\n",
    "                return (f\"La clé '{cle}' n'est pas unique. Le nombre de lignes uniques ({lignes_uniques}) ne correspond pas au nombre total de lignes ({total_lignes}). \"\n",
    "               )\n",
    "\n",
    "#Vérification du df customers\n",
    "resultat_customers = verifier_unicite(customers, 'client_id')\n",
    "print(resultat_customers)\n"
   ]
  },
  {
   "cell_type": "code",
   "execution_count": 10,
   "id": "8f97982c",
   "metadata": {},
   "outputs": [
    {
     "name": "stdout",
     "output_type": "stream",
     "text": [
      "<class 'pandas.core.frame.DataFrame'>\n",
      "RangeIndex: 8621 entries, 0 to 8620\n",
      "Data columns (total 3 columns):\n",
      " #   Column     Non-Null Count  Dtype \n",
      "---  ------     --------------  ----- \n",
      " 0   client_id  8621 non-null   object\n",
      " 1   sex        8621 non-null   object\n",
      " 2   birth      8621 non-null   int64 \n",
      "dtypes: int64(1), object(2)\n",
      "memory usage: 202.2+ KB\n"
     ]
    }
   ],
   "source": [
    "customers.info()"
   ]
  },
  {
   "cell_type": "code",
   "execution_count": 11,
   "id": "bdd13fb9",
   "metadata": {},
   "outputs": [
    {
     "name": "stdout",
     "output_type": "stream",
     "text": [
      "  client_id sex  birth  age\n",
      "0    c_4410   f   1967   57\n",
      "1    c_7839   f   1975   49\n",
      "2    c_1699   f   1984   40\n",
      "3    c_5961   f   1962   62\n",
      "4    c_5320   m   1943   81\n"
     ]
    }
   ],
   "source": [
    "# Calculer l'année actuelle\n",
    "current_year = datetime.now().year\n",
    "\n",
    "# Créer une nouvelle colonne 'age'\n",
    "customers['age'] = current_year - customers['birth']\n",
    "\n",
    "\n",
    "# Afficher les premières lignes du DataFrame pour vérifier\n",
    "print(customers.head())"
   ]
  },
  {
   "cell_type": "code",
   "execution_count": 12,
   "id": "0094ea61",
   "metadata": {},
   "outputs": [
    {
     "data": {
      "text/plain": [
       "count    8621.000000\n",
       "mean       45.724394\n",
       "std        16.917958\n",
       "min        20.000000\n",
       "25%        32.000000\n",
       "50%        45.000000\n",
       "75%        58.000000\n",
       "max        95.000000\n",
       "Name: age, dtype: float64"
      ]
     },
     "execution_count": 12,
     "metadata": {},
     "output_type": "execute_result"
    }
   ],
   "source": [
    "#age moyen et box plot de l'age\n",
    "customers['age'].describe()"
   ]
  },
  {
   "cell_type": "code",
   "execution_count": 13,
   "id": "154588c8",
   "metadata": {},
   "outputs": [
    {
     "name": "stdout",
     "output_type": "stream",
     "text": [
      "  client_id sex  birth  age tranche_age\n",
      "0    c_4410   f   1967   57       50-59\n",
      "1    c_7839   f   1975   49       40-49\n",
      "2    c_1699   f   1984   40       40-49\n",
      "3    c_5961   f   1962   62       60-69\n",
      "4    c_5320   m   1943   81       80-89\n"
     ]
    }
   ],
   "source": [
    "# Définir les tranches d'âge (bins)\n",
    "bins = [0, 20, 30, 40, 50, 60, 70, 80, 90, 100]\n",
    "labels = ['0-19', '20-29', '30-39', '40-49', '50-59', '60-69', '70-79', '80-89', '90-99']\n",
    "\n",
    "# Créer une nouvelle colonne 'age_group' avec les tranches d'âge\n",
    "customers['tranche_age'] = pd.cut(customers['age'], bins=bins, labels=labels, right=False)\n",
    "\n",
    "# Afficher les premières lignes du DataFrame pour vérifier\n",
    "print(customers.head(5))"
   ]
  },
  {
   "cell_type": "code",
   "execution_count": 14,
   "id": "a0983ae0",
   "metadata": {},
   "outputs": [
    {
     "data": {
      "image/png": "[encoded data removed]",
      "text/plain": [
       "<Figure size 1000x600 with 1 Axes>"
      ]
     },
     "metadata": {},
     "output_type": "display_data"
    }
   ],
   "source": [
    "# Compter le nombre de clients dans chaque tranche d'âge\n",
    "tranche_age_counts = customers['tranche_age'].value_counts().sort_index()\n",
    "\n",
    "# Créer le graphique à barres\n",
    "plt.figure(figsize=(10, 6))\n",
    "tranche_age_counts.plot(kind='bar')\n",
    "plt.title('Répartition des âges des clients par tranche')\n",
    "plt.xlabel('Tranche d\\'âge')\n",
    "plt.ylabel('Nombre de clients')\n",
    "plt.xticks(rotation=45)\n",
    "plt.grid(axis='y')\n",
    "\n",
    "# Afficher le graphique\n",
    "plt.show()"
   ]
  },
  {
   "cell_type": "markdown",
   "id": "a618408e",
   "metadata": {},
   "source": [
    "La majorité des clients se situe dans les tranches d'âge de 20 à 59 ans.\n",
    "Baisse notable dans les tranches d'âge supérieures à 50 ans, avec une diminution progressive très marquée après 70 ans."
   ]
  },
  {
   "cell_type": "code",
   "execution_count": 15,
   "id": "4e43836d",
   "metadata": {},
   "outputs": [
    {
     "name": "stdout",
     "output_type": "stream",
     "text": [
      "sex\n",
      "f    4490\n",
      "m    4131\n",
      "Name: count, dtype: int64\n"
     ]
    }
   ],
   "source": [
    "# Compter le nombre d'hommes et de femmes\n",
    "gender_counts = customers['sex'].value_counts()\n",
    "\n",
    "# Afficher le nombre d'hommes et de femmes\n",
    "print(gender_counts)"
   ]
  },
  {
   "cell_type": "code",
   "execution_count": 16,
   "id": "12c9aff8",
   "metadata": {},
   "outputs": [
    {
     "data": {
      "image/png": "[encoded data removed]",
      "text/plain": [
       "<Figure size 800x800 with 1 Axes>"
      ]
     },
     "metadata": {},
     "output_type": "display_data"
    }
   ],
   "source": [
    "# Créer un piechart\n",
    "plt.figure(figsize=(8, 8))\n",
    "gender_counts.plot(kind='pie', autopct='%1.1f%%', startangle=90, colors=['#ff9999','#66b3ff'], labels=['Femmes', 'Hommes'])\n",
    "plt.title('Répartition des sexes des clients')\n",
    "plt.ylabel('')\n",
    "plt.show()"
   ]
  },
  {
   "cell_type": "markdown",
   "id": "de5b8842",
   "metadata": {},
   "source": [
    "Répartition par genre légèrement en faveur des femmes, mais resultat proche de la parité."
   ]
  },
  {
   "cell_type": "markdown",
   "id": "c7bfaea4",
   "metadata": {},
   "source": [
    "### Exploration PRODUCTS"
   ]
  },
  {
   "cell_type": "code",
   "execution_count": 17,
   "id": "c0cb4cee",
   "metadata": {
    "scrolled": false
   },
   "outputs": [
    {
     "name": "stdout",
     "output_type": "stream",
     "text": [
      "Products a 3286 lignes et 3 colonnes.\n"
     ]
    }
   ],
   "source": [
    "pd.DataFrame(products)\n",
    "print(f\"Products a {products.shape[0]} lignes et {products.shape[1]} colonnes.\")"
   ]
  },
  {
   "cell_type": "code",
   "execution_count": 18,
   "id": "b0fe7a73",
   "metadata": {
    "scrolled": true
   },
   "outputs": [
    {
     "data": {
      "text/html": [
       "<div>\n",
       "<style scoped>\n",
       "    .dataframe tbody tr th:only-of-type {\n",
       "        vertical-align: middle;\n",
       "    }\n",
       "\n",
       "    .dataframe tbody tr th {\n",
       "        vertical-align: top;\n",
       "    }\n",
       "\n",
       "    .dataframe thead th {\n",
       "        text-align: right;\n",
       "    }\n",
       "</style>\n",
       "<table border=\"1\" class=\"dataframe\">\n",
       "  <thead>\n",
       "    <tr style=\"text-align: right;\">\n",
       "      <th></th>\n",
       "      <th>id_prod</th>\n",
       "      <th>price</th>\n",
       "      <th>categ</th>\n",
       "    </tr>\n",
       "  </thead>\n",
       "  <tbody>\n",
       "    <tr>\n",
       "      <th>0</th>\n",
       "      <td>0_1421</td>\n",
       "      <td>19.99</td>\n",
       "      <td>0</td>\n",
       "    </tr>\n",
       "    <tr>\n",
       "      <th>1</th>\n",
       "      <td>0_1368</td>\n",
       "      <td>5.13</td>\n",
       "      <td>0</td>\n",
       "    </tr>\n",
       "    <tr>\n",
       "      <th>2</th>\n",
       "      <td>0_731</td>\n",
       "      <td>17.99</td>\n",
       "      <td>0</td>\n",
       "    </tr>\n",
       "    <tr>\n",
       "      <th>3</th>\n",
       "      <td>1_587</td>\n",
       "      <td>4.99</td>\n",
       "      <td>1</td>\n",
       "    </tr>\n",
       "    <tr>\n",
       "      <th>4</th>\n",
       "      <td>0_1507</td>\n",
       "      <td>3.99</td>\n",
       "      <td>0</td>\n",
       "    </tr>\n",
       "    <tr>\n",
       "      <th>5</th>\n",
       "      <td>0_1163</td>\n",
       "      <td>9.99</td>\n",
       "      <td>0</td>\n",
       "    </tr>\n",
       "    <tr>\n",
       "      <th>6</th>\n",
       "      <td>1_463</td>\n",
       "      <td>36.99</td>\n",
       "      <td>1</td>\n",
       "    </tr>\n",
       "    <tr>\n",
       "      <th>7</th>\n",
       "      <td>0_2157</td>\n",
       "      <td>34.99</td>\n",
       "      <td>0</td>\n",
       "    </tr>\n",
       "    <tr>\n",
       "      <th>8</th>\n",
       "      <td>0_1915</td>\n",
       "      <td>16.99</td>\n",
       "      <td>0</td>\n",
       "    </tr>\n",
       "    <tr>\n",
       "      <th>9</th>\n",
       "      <td>0_389</td>\n",
       "      <td>18.99</td>\n",
       "      <td>0</td>\n",
       "    </tr>\n",
       "  </tbody>\n",
       "</table>\n",
       "</div>"
      ],
      "text/plain": [
       "  id_prod  price  categ\n",
       "0  0_1421  19.99      0\n",
       "1  0_1368   5.13      0\n",
       "2   0_731  17.99      0\n",
       "3   1_587   4.99      1\n",
       "4  0_1507   3.99      0\n",
       "5  0_1163   9.99      0\n",
       "6   1_463  36.99      1\n",
       "7  0_2157  34.99      0\n",
       "8  0_1915  16.99      0\n",
       "9   0_389  18.99      0"
      ]
     },
     "execution_count": 18,
     "metadata": {},
     "output_type": "execute_result"
    }
   ],
   "source": [
    "products.head(10)"
   ]
  },
  {
   "cell_type": "code",
   "execution_count": 19,
   "id": "65c7cb70",
   "metadata": {},
   "outputs": [
    {
     "data": {
      "text/plain": [
       "id_prod     object\n",
       "price      float64\n",
       "categ        int64\n",
       "dtype: object"
      ]
     },
     "execution_count": 19,
     "metadata": {},
     "output_type": "execute_result"
    }
   ],
   "source": [
    "products.dtypes"
   ]
  },
  {
   "cell_type": "code",
   "execution_count": 20,
   "id": "1c484263",
   "metadata": {},
   "outputs": [],
   "source": [
    "products['id_prod'] = products['id_prod'].astype(str)"
   ]
  },
  {
   "cell_type": "code",
   "execution_count": 21,
   "id": "010ec388",
   "metadata": {},
   "outputs": [
    {
     "name": "stdout",
     "output_type": "stream",
     "text": [
      "Nombre de valeurs NaN dans chaque colonne :\n",
      "id_prod    0\n",
      "price      0\n",
      "categ      0\n",
      "dtype: int64\n"
     ]
    }
   ],
   "source": [
    "nan_count_products = products.isnull().sum()\n",
    "print(\"Nombre de valeurs NaN dans chaque colonne :\")\n",
    "print(nan_count_products)\n"
   ]
  },
  {
   "cell_type": "code",
   "execution_count": 22,
   "id": "e86b8878",
   "metadata": {},
   "outputs": [
    {
     "name": "stdout",
     "output_type": "stream",
     "text": [
      "La clé 'id_prod' est unique et le nombre de lignes uniques (3286) correspond au nombre total de lignes (3286).\n"
     ]
    }
   ],
   "source": [
    "resultat_products = verifier_unicite(products, 'id_prod')\n",
    "print(resultat_products)"
   ]
  },
  {
   "cell_type": "code",
   "execution_count": 23,
   "id": "71357f59",
   "metadata": {},
   "outputs": [
    {
     "name": "stdout",
     "output_type": "stream",
     "text": [
      "<class 'pandas.core.frame.DataFrame'>\n",
      "RangeIndex: 3286 entries, 0 to 3285\n",
      "Data columns (total 3 columns):\n",
      " #   Column   Non-Null Count  Dtype  \n",
      "---  ------   --------------  -----  \n",
      " 0   id_prod  3286 non-null   object \n",
      " 1   price    3286 non-null   float64\n",
      " 2   categ    3286 non-null   int64  \n",
      "dtypes: float64(1), int64(1), object(1)\n",
      "memory usage: 77.1+ KB\n"
     ]
    }
   ],
   "source": [
    "products.info()"
   ]
  },
  {
   "cell_type": "code",
   "execution_count": 24,
   "id": "97ef1c1b",
   "metadata": {},
   "outputs": [
    {
     "data": {
      "text/html": [
       "<div>\n",
       "<style scoped>\n",
       "    .dataframe tbody tr th:only-of-type {\n",
       "        vertical-align: middle;\n",
       "    }\n",
       "\n",
       "    .dataframe tbody tr th {\n",
       "        vertical-align: top;\n",
       "    }\n",
       "\n",
       "    .dataframe thead th {\n",
       "        text-align: right;\n",
       "    }\n",
       "</style>\n",
       "<table border=\"1\" class=\"dataframe\">\n",
       "  <thead>\n",
       "    <tr style=\"text-align: right;\">\n",
       "      <th></th>\n",
       "      <th>id_prod</th>\n",
       "      <th>price</th>\n",
       "      <th>categ</th>\n",
       "    </tr>\n",
       "  </thead>\n",
       "  <tbody>\n",
       "    <tr>\n",
       "      <th>count</th>\n",
       "      <td>3286</td>\n",
       "      <td>3286.000000</td>\n",
       "      <td>3286.000000</td>\n",
       "    </tr>\n",
       "    <tr>\n",
       "      <th>unique</th>\n",
       "      <td>3286</td>\n",
       "      <td>NaN</td>\n",
       "      <td>NaN</td>\n",
       "    </tr>\n",
       "    <tr>\n",
       "      <th>top</th>\n",
       "      <td>0_1421</td>\n",
       "      <td>NaN</td>\n",
       "      <td>NaN</td>\n",
       "    </tr>\n",
       "    <tr>\n",
       "      <th>freq</th>\n",
       "      <td>1</td>\n",
       "      <td>NaN</td>\n",
       "      <td>NaN</td>\n",
       "    </tr>\n",
       "    <tr>\n",
       "      <th>mean</th>\n",
       "      <td>NaN</td>\n",
       "      <td>21.863597</td>\n",
       "      <td>0.370359</td>\n",
       "    </tr>\n",
       "    <tr>\n",
       "      <th>std</th>\n",
       "      <td>NaN</td>\n",
       "      <td>29.849786</td>\n",
       "      <td>0.615446</td>\n",
       "    </tr>\n",
       "    <tr>\n",
       "      <th>min</th>\n",
       "      <td>NaN</td>\n",
       "      <td>0.620000</td>\n",
       "      <td>0.000000</td>\n",
       "    </tr>\n",
       "    <tr>\n",
       "      <th>25%</th>\n",
       "      <td>NaN</td>\n",
       "      <td>6.990000</td>\n",
       "      <td>0.000000</td>\n",
       "    </tr>\n",
       "    <tr>\n",
       "      <th>50%</th>\n",
       "      <td>NaN</td>\n",
       "      <td>13.075000</td>\n",
       "      <td>0.000000</td>\n",
       "    </tr>\n",
       "    <tr>\n",
       "      <th>75%</th>\n",
       "      <td>NaN</td>\n",
       "      <td>22.990000</td>\n",
       "      <td>1.000000</td>\n",
       "    </tr>\n",
       "    <tr>\n",
       "      <th>max</th>\n",
       "      <td>NaN</td>\n",
       "      <td>300.000000</td>\n",
       "      <td>2.000000</td>\n",
       "    </tr>\n",
       "  </tbody>\n",
       "</table>\n",
       "</div>"
      ],
      "text/plain": [
       "       id_prod        price        categ\n",
       "count     3286  3286.000000  3286.000000\n",
       "unique    3286          NaN          NaN\n",
       "top     0_1421          NaN          NaN\n",
       "freq         1          NaN          NaN\n",
       "mean       NaN    21.863597     0.370359\n",
       "std        NaN    29.849786     0.615446\n",
       "min        NaN     0.620000     0.000000\n",
       "25%        NaN     6.990000     0.000000\n",
       "50%        NaN    13.075000     0.000000\n",
       "75%        NaN    22.990000     1.000000\n",
       "max        NaN   300.000000     2.000000"
      ]
     },
     "execution_count": 24,
     "metadata": {},
     "output_type": "execute_result"
    }
   ],
   "source": [
    "products.describe(include='all')"
   ]
  },
  {
   "cell_type": "code",
   "execution_count": 25,
   "id": "66a9b95a",
   "metadata": {},
   "outputs": [
    {
     "data": {
      "image/png": "[encoded data removed]",
      "text/plain": [
       "<Figure size 1000x700 with 1 Axes>"
      ]
     },
     "metadata": {},
     "output_type": "display_data"
    }
   ],
   "source": [
    "\n",
    "# Répartition des prix de ventes\n",
    "plt.figure(figsize=(10, 7))\n",
    "sns.histplot(data=products, x='price', color='brown')\n",
    "plt.title('Distribution des prix : histogramme', fontsize=11)\n",
    "plt.xlabel('Prix')\n",
    "plt.ylabel('Nombre de références')\n",
    "plt.show()"
   ]
  },
  {
   "cell_type": "markdown",
   "id": "5445aa3a",
   "metadata": {},
   "source": [
    "La distribution est fortement concentrée vers le côté gauche du graphique, indiquant que la majorité des produits sont à bas prix (cohérent avec une librairie). \n",
    "Le nombre de références diminue rapidement à mesure que le prix augmente."
   ]
  },
  {
   "cell_type": "code",
   "execution_count": 26,
   "id": "6f94e71c",
   "metadata": {},
   "outputs": [
    {
     "data": {
      "text/plain": [
       "categ\n",
       "0    2308\n",
       "1     739\n",
       "2     239\n",
       "dtype: int64"
      ]
     },
     "execution_count": 26,
     "metadata": {},
     "output_type": "execute_result"
    }
   ],
   "source": [
    "products.groupby('categ').size()"
   ]
  },
  {
   "cell_type": "code",
   "execution_count": 27,
   "id": "2a345c54",
   "metadata": {},
   "outputs": [
    {
     "name": "stdout",
     "output_type": "stream",
     "text": [
      "--------------------\n",
      "Catégorie de livres 0\n",
      "min: 0.62\n",
      "max: 40.99\n",
      "moy: 11.73\n",
      "med: 10.32\n",
      "mod: 0    4.99\n",
      "Name: price, dtype: float64\n",
      "var: 57.22\n",
      "ect: 7.56\n",
      "--------------------\n",
      "Catégorie de livres 1\n",
      "min: 2.0\n",
      "max: 80.99\n",
      "moy: 25.53\n",
      "med: 22.99\n",
      "mod: 0    22.99\n",
      "1    32.99\n",
      "Name: price, dtype: float64\n",
      "var: 237.61\n",
      "ect: 15.41\n",
      "--------------------\n",
      "Catégorie de livres 2\n",
      "min: 30.99\n",
      "max: 300.0\n",
      "moy: 108.35\n",
      "med: 101.99\n",
      "mod: 0    50.99\n",
      "1    68.99\n",
      "2    69.99\n",
      "Name: price, dtype: float64\n",
      "var: 2446.06\n",
      "ect: 49.46\n"
     ]
    }
   ],
   "source": [
    "# prix par categorie\n",
    "\n",
    "for cat in products['categ'].unique():\n",
    "    subset = products[products.categ == cat]\n",
    "    print(\"-\"*20)\n",
    "    print(\"Catégorie de livres\",cat)\n",
    "    print(\"min:\",subset['price'].min())\n",
    "    print(\"max:\",subset['price'].max())\n",
    "    print(\"moy:\",round(subset['price'].mean(),2))\n",
    "    print(\"med:\",round(subset['price'].median(),2))\n",
    "    print(\"mod:\",round(subset['price'].mode(),2))\n",
    "    print(\"var:\",round(subset['price'].var(ddof=0),2))\n",
    "    print(\"ect:\",round(subset['price'].std(ddof=0),2))"
   ]
  },
  {
   "cell_type": "code",
   "execution_count": 28,
   "id": "4c0db2e6",
   "metadata": {},
   "outputs": [
    {
     "data": {
      "image/png": "[encoded data removed]",
      "text/plain": [
       "<Figure size 1400x800 with 1 Axes>"
      ]
     },
     "metadata": {},
     "output_type": "display_data"
    }
   ],
   "source": [
    "# Créer le boxplot avec Seaborn\n",
    "plt.figure(figsize=(14, 8))\n",
    "sns.boxplot(x='categ', y='price', data=products)\n",
    "\n",
    "# Configurer les labels et le titre\n",
    "plt.xlabel('Catégorie')\n",
    "plt.ylabel('Prix')\n",
    "plt.title('Boxplots des prix par catégorie')\n",
    "\n",
    "# Afficher le graphique\n",
    "plt.show()"
   ]
  },
  {
   "cell_type": "markdown",
   "id": "385d1f04",
   "metadata": {},
   "source": [
    "Catégorie 0 :\n",
    "Cette catégorie présente les prix les plus bas avec une médiane très basse, proche de zéro.\n",
    "La gamme de prix est très étroite, avec peu de variation au-dessus du premier quartile.\n",
    "Peu de valeurs extrêmes.\n",
    "\n",
    "Catégorie 1 :\n",
    "La médiane est légèrement plus élevée que dans la catégorie 0, mais reste modeste.\n",
    "Il y a une plus grande variabilité des prix dans cette catégorie, comme en témoignent le premier et troisième quartiles plus élargis.\n",
    "Quelques valeurs extrêmes montrent que certains articles dans cette catégorie peuvent être significativement plus chers que la majorité.\n",
    "\n",
    "Catégorie 2 :\n",
    "Cette catégorie a la médiane la plus élevée, ce qui indique que les prix sont généralement plus élevés.\n",
    "La variabilité des prix est la plus grande parmi les trois catégories.\n",
    "De nombreuses valeurs extrêmes indiquent que certains produits dans cette catégorie sont exceptionnellement chers.\n",
    "\n",
    "Implications pour la stratégie de vente :\n",
    "Catégorie 0 : Parfait pour attirer des clients sensibles aux prix avec des articles à bas coût.\n",
    "Catégorie 1 : Potentiellement destinée à des acheteurs cherchant un bon rapport qualité-prix.\n",
    "Catégorie 2 : Idéale pour les produits premium ou spécialisés avec des marges plus élevées."
   ]
  },
  {
   "cell_type": "code",
   "execution_count": 29,
   "id": "4d596180",
   "metadata": {
    "scrolled": true
   },
   "outputs": [
    {
     "name": "stdout",
     "output_type": "stream",
     "text": [
      "Outliers pour la catégorie 0:\n",
      "     id_prod  price  categ\n",
      "7     0_2157  34.99      0\n",
      "47    0_1629  40.99      0\n",
      "76     0_548  37.53      0\n",
      "184   0_1016  35.06      0\n",
      "384    0_907  34.99      0\n",
      "391   0_1239  37.99      0\n",
      "512    0_822  35.30      0\n",
      "569    0_197  37.99      0\n",
      "623    0_289  36.99      0\n",
      "1220  0_1544  37.91      0\n",
      "1293   0_920  37.46      0\n",
      "1359   0_494  39.58      0\n",
      "1670  0_1415  34.99      0\n",
      "1725   0_604  33.54      0\n",
      "2091   0_573  34.99      0\n",
      "2116   0_143  34.99      0\n",
      "2408  0_2177  34.99      0\n",
      "2572    0_60  37.64      0\n",
      "2615  0_1597  33.99      0\n",
      "2662  0_1581  37.99      0\n",
      "2808  0_2147  39.99      0\n",
      "3208  0_1749  34.99      0\n",
      "\n",
      "\n",
      "Outliers pour la catégorie 1:\n",
      "     id_prod  price  categ\n",
      "204    1_496  70.51      1\n",
      "742    1_315  66.99      1\n",
      "807     1_10  78.83      1\n",
      "823     1_13  80.99      1\n",
      "878    1_679  79.99      1\n",
      "1043   1_354  68.49      1\n",
      "1694   1_184  67.65      1\n",
      "2323   1_514  67.66      1\n",
      "2826   1_171  73.99      1\n",
      "2961   1_608  72.75      1\n",
      "\n",
      "\n",
      "Outliers pour la catégorie 2:\n",
      "     id_prod   price  categ\n",
      "394    2_158  247.22      2\n",
      "724     2_76  254.44      2\n",
      "946      2_2  300.00      2\n",
      "1435   2_167  236.99      2\n",
      "\n",
      "\n"
     ]
    }
   ],
   "source": [
    "# Fonction pour trouver les outliers\n",
    "def find_outliers(df):\n",
    "    Q1 = df['price'].quantile(0.25)\n",
    "    Q3 = df['price'].quantile(0.75)\n",
    "    IQR = Q3 - Q1\n",
    "    lower_bound = Q1 - 1.5 * IQR\n",
    "    upper_bound = Q3 + 1.5 * IQR\n",
    "    outliers = df[(df['price'] < lower_bound) | (df['price'] > upper_bound)]\n",
    "    return outliers\n",
    "\n",
    "# Initialiser un dictionnaire pour stocker les outliers par catégorie\n",
    "outliers_by_categ = {}\n",
    "\n",
    "# Trouver et stocker les outliers pour chaque catégorie\n",
    "categories = products['categ'].unique()\n",
    "for categ in categories:\n",
    "    df_categ = products[products['categ'] == categ]\n",
    "    outliers = find_outliers(df_categ)\n",
    "    outliers_by_categ[categ] = outliers\n",
    "\n",
    "# Afficher les outliers par catégorie\n",
    "for categ, outliers in outliers_by_categ.items():\n",
    "    print(f\"Outliers pour la catégorie {categ}:\")\n",
    "    print(outliers)\n",
    "    print(\"\\n\")"
   ]
  },
  {
   "cell_type": "markdown",
   "id": "80820aba",
   "metadata": {},
   "source": [
    "### Exploration TRANSACTIONS"
   ]
  },
  {
   "cell_type": "code",
   "execution_count": 30,
   "id": "c17b8278",
   "metadata": {},
   "outputs": [
    {
     "name": "stdout",
     "output_type": "stream",
     "text": [
      "Customers a 1048575 lignes et 4 colonnes.\n"
     ]
    }
   ],
   "source": [
    "pd.DataFrame(transactions)\n",
    "print(f\"Customers a {transactions.shape[0]} lignes et {transactions.shape[1]} colonnes.\")"
   ]
  },
  {
   "cell_type": "code",
   "execution_count": 31,
   "id": "d6e602e1",
   "metadata": {},
   "outputs": [
    {
     "data": {
      "text/plain": [
       "id_prod               object\n",
       "date          datetime64[ns]\n",
       "session_id            object\n",
       "client_id             object\n",
       "dtype: object"
      ]
     },
     "execution_count": 31,
     "metadata": {},
     "output_type": "execute_result"
    }
   ],
   "source": [
    "transactions.dtypes"
   ]
  },
  {
   "cell_type": "code",
   "execution_count": 32,
   "id": "76617f82",
   "metadata": {},
   "outputs": [
    {
     "name": "stdout",
     "output_type": "stream",
     "text": [
      "Nombre de valeurs NaN dans chaque colonne :\n",
      "id_prod       361041\n",
      "date          361041\n",
      "session_id    361041\n",
      "client_id     361041\n",
      "dtype: int64\n"
     ]
    }
   ],
   "source": [
    "nan_count_transactions = transactions.isnull().sum()\n",
    "print(\"Nombre de valeurs NaN dans chaque colonne :\")\n",
    "print(nan_count_transactions)\n"
   ]
  },
  {
   "cell_type": "code",
   "execution_count": 33,
   "id": "2211e63f",
   "metadata": {},
   "outputs": [
    {
     "data": {
      "text/plain": [
       "3265"
      ]
     },
     "execution_count": 33,
     "metadata": {},
     "output_type": "execute_result"
    }
   ],
   "source": [
    "transactions['id_prod'].nunique()"
   ]
  },
  {
   "cell_type": "code",
   "execution_count": 34,
   "id": "5f9d5ca6",
   "metadata": {},
   "outputs": [
    {
     "data": {
      "text/plain": [
       "8600"
      ]
     },
     "execution_count": 34,
     "metadata": {},
     "output_type": "execute_result"
    }
   ],
   "source": [
    "transactions['client_id'].nunique()"
   ]
  },
  {
   "cell_type": "code",
   "execution_count": 35,
   "id": "94613a42",
   "metadata": {},
   "outputs": [
    {
     "data": {
      "text/html": [
       "<div>\n",
       "<style scoped>\n",
       "    .dataframe tbody tr th:only-of-type {\n",
       "        vertical-align: middle;\n",
       "    }\n",
       "\n",
       "    .dataframe tbody tr th {\n",
       "        vertical-align: top;\n",
       "    }\n",
       "\n",
       "    .dataframe thead th {\n",
       "        text-align: right;\n",
       "    }\n",
       "</style>\n",
       "<table border=\"1\" class=\"dataframe\">\n",
       "  <thead>\n",
       "    <tr style=\"text-align: right;\">\n",
       "      <th></th>\n",
       "      <th>id_prod</th>\n",
       "      <th>date</th>\n",
       "      <th>session_id</th>\n",
       "      <th>client_id</th>\n",
       "    </tr>\n",
       "  </thead>\n",
       "  <tbody>\n",
       "    <tr>\n",
       "      <th>0</th>\n",
       "      <td>False</td>\n",
       "      <td>False</td>\n",
       "      <td>False</td>\n",
       "      <td>False</td>\n",
       "    </tr>\n",
       "    <tr>\n",
       "      <th>1</th>\n",
       "      <td>False</td>\n",
       "      <td>False</td>\n",
       "      <td>False</td>\n",
       "      <td>False</td>\n",
       "    </tr>\n",
       "    <tr>\n",
       "      <th>2</th>\n",
       "      <td>False</td>\n",
       "      <td>False</td>\n",
       "      <td>False</td>\n",
       "      <td>False</td>\n",
       "    </tr>\n",
       "    <tr>\n",
       "      <th>3</th>\n",
       "      <td>False</td>\n",
       "      <td>False</td>\n",
       "      <td>False</td>\n",
       "      <td>False</td>\n",
       "    </tr>\n",
       "    <tr>\n",
       "      <th>4</th>\n",
       "      <td>False</td>\n",
       "      <td>False</td>\n",
       "      <td>False</td>\n",
       "      <td>False</td>\n",
       "    </tr>\n",
       "  </tbody>\n",
       "</table>\n",
       "</div>"
      ],
      "text/plain": [
       "   id_prod   date  session_id  client_id\n",
       "0    False  False       False      False\n",
       "1    False  False       False      False\n",
       "2    False  False       False      False\n",
       "3    False  False       False      False\n",
       "4    False  False       False      False"
      ]
     },
     "execution_count": 35,
     "metadata": {},
     "output_type": "execute_result"
    }
   ],
   "source": [
    "transactions.isnull().head(5)"
   ]
  },
  {
   "cell_type": "code",
   "execution_count": 36,
   "id": "bcdc4357",
   "metadata": {},
   "outputs": [
    {
     "name": "stdout",
     "output_type": "stream",
     "text": [
      "La clé 'id_prod' n'est pas unique. Le nombre de lignes uniques (3265) ne correspond pas au nombre total de lignes (1048575). \n"
     ]
    }
   ],
   "source": [
    "resultat_transactions = verifier_unicite(transactions, 'id_prod')\n",
    "print(resultat_transactions)"
   ]
  },
  {
   "cell_type": "code",
   "execution_count": 37,
   "id": "24730c7f",
   "metadata": {},
   "outputs": [
    {
     "name": "stdout",
     "output_type": "stream",
     "text": [
      "La clé 'client_id' n'est pas unique. Le nombre de lignes uniques (8600) ne correspond pas au nombre total de lignes (1048575). \n"
     ]
    }
   ],
   "source": [
    "resultat_transactions = verifier_unicite(transactions, 'client_id')\n",
    "print(resultat_transactions)"
   ]
  },
  {
   "cell_type": "code",
   "execution_count": 38,
   "id": "e6241ebe",
   "metadata": {},
   "outputs": [
    {
     "name": "stdout",
     "output_type": "stream",
     "text": [
      "<class 'pandas.core.frame.DataFrame'>\n",
      "RangeIndex: 1048575 entries, 0 to 1048574\n",
      "Data columns (total 4 columns):\n",
      " #   Column      Non-Null Count   Dtype         \n",
      "---  ------      --------------   -----         \n",
      " 0   id_prod     687534 non-null  object        \n",
      " 1   date        687534 non-null  datetime64[ns]\n",
      " 2   session_id  687534 non-null  object        \n",
      " 3   client_id   687534 non-null  object        \n",
      "dtypes: datetime64[ns](1), object(3)\n",
      "memory usage: 32.0+ MB\n"
     ]
    }
   ],
   "source": [
    "transactions.info()"
   ]
  },
  {
   "cell_type": "code",
   "execution_count": 39,
   "id": "05655c2c",
   "metadata": {},
   "outputs": [
    {
     "data": {
      "text/html": [
       "<div>\n",
       "<style scoped>\n",
       "    .dataframe tbody tr th:only-of-type {\n",
       "        vertical-align: middle;\n",
       "    }\n",
       "\n",
       "    .dataframe tbody tr th {\n",
       "        vertical-align: top;\n",
       "    }\n",
       "\n",
       "    .dataframe thead th {\n",
       "        text-align: right;\n",
       "    }\n",
       "</style>\n",
       "<table border=\"1\" class=\"dataframe\">\n",
       "  <thead>\n",
       "    <tr style=\"text-align: right;\">\n",
       "      <th></th>\n",
       "      <th>id_prod</th>\n",
       "      <th>date</th>\n",
       "      <th>session_id</th>\n",
       "      <th>client_id</th>\n",
       "    </tr>\n",
       "  </thead>\n",
       "  <tbody>\n",
       "    <tr>\n",
       "      <th>count</th>\n",
       "      <td>687534</td>\n",
       "      <td>687534</td>\n",
       "      <td>687534</td>\n",
       "      <td>687534</td>\n",
       "    </tr>\n",
       "    <tr>\n",
       "      <th>unique</th>\n",
       "      <td>3265</td>\n",
       "      <td>NaN</td>\n",
       "      <td>345505</td>\n",
       "      <td>8600</td>\n",
       "    </tr>\n",
       "    <tr>\n",
       "      <th>top</th>\n",
       "      <td>1_369</td>\n",
       "      <td>NaN</td>\n",
       "      <td>s_118668</td>\n",
       "      <td>c_1609</td>\n",
       "    </tr>\n",
       "    <tr>\n",
       "      <th>freq</th>\n",
       "      <td>2340</td>\n",
       "      <td>NaN</td>\n",
       "      <td>14</td>\n",
       "      <td>25586</td>\n",
       "    </tr>\n",
       "    <tr>\n",
       "      <th>mean</th>\n",
       "      <td>NaN</td>\n",
       "      <td>2022-03-01 21:24:00.618519296</td>\n",
       "      <td>NaN</td>\n",
       "      <td>NaN</td>\n",
       "    </tr>\n",
       "    <tr>\n",
       "      <th>min</th>\n",
       "      <td>NaN</td>\n",
       "      <td>2021-03-01 00:01:07.843138</td>\n",
       "      <td>NaN</td>\n",
       "      <td>NaN</td>\n",
       "    </tr>\n",
       "    <tr>\n",
       "      <th>25%</th>\n",
       "      <td>NaN</td>\n",
       "      <td>2021-09-10 10:35:20.642323456</td>\n",
       "      <td>NaN</td>\n",
       "      <td>NaN</td>\n",
       "    </tr>\n",
       "    <tr>\n",
       "      <th>50%</th>\n",
       "      <td>NaN</td>\n",
       "      <td>2022-02-27 06:50:25.400120064</td>\n",
       "      <td>NaN</td>\n",
       "      <td>NaN</td>\n",
       "    </tr>\n",
       "    <tr>\n",
       "      <th>75%</th>\n",
       "      <td>NaN</td>\n",
       "      <td>2022-08-28 22:16:49.841665536</td>\n",
       "      <td>NaN</td>\n",
       "      <td>NaN</td>\n",
       "    </tr>\n",
       "    <tr>\n",
       "      <th>max</th>\n",
       "      <td>NaN</td>\n",
       "      <td>2023-02-28 23:58:30.792755</td>\n",
       "      <td>NaN</td>\n",
       "      <td>NaN</td>\n",
       "    </tr>\n",
       "  </tbody>\n",
       "</table>\n",
       "</div>"
      ],
      "text/plain": [
       "       id_prod                           date session_id client_id\n",
       "count   687534                         687534     687534    687534\n",
       "unique    3265                            NaN     345505      8600\n",
       "top      1_369                            NaN   s_118668    c_1609\n",
       "freq      2340                            NaN         14     25586\n",
       "mean       NaN  2022-03-01 21:24:00.618519296        NaN       NaN\n",
       "min        NaN     2021-03-01 00:01:07.843138        NaN       NaN\n",
       "25%        NaN  2021-09-10 10:35:20.642323456        NaN       NaN\n",
       "50%        NaN  2022-02-27 06:50:25.400120064        NaN       NaN\n",
       "75%        NaN  2022-08-28 22:16:49.841665536        NaN       NaN\n",
       "max        NaN     2023-02-28 23:58:30.792755        NaN       NaN"
      ]
     },
     "execution_count": 39,
     "metadata": {},
     "output_type": "execute_result"
    }
   ],
   "source": [
    "transactions.describe(include='all')"
   ]
  },
  {
   "cell_type": "code",
   "execution_count": 40,
   "id": "c0aa03b6",
   "metadata": {},
   "outputs": [
    {
     "name": "stdout",
     "output_type": "stream",
     "text": [
      "Mois manquants: set()\n"
     ]
    }
   ],
   "source": [
    "# Extraire les années et les mois des dates\n",
    "transactions['year_month'] = transactions['date'].dt.to_period('M')\n",
    "\n",
    "# Obtenir l'ensemble des années et des mois présents dans les données\n",
    "present_months = set(transactions['year_month'])\n",
    "\n",
    "# Générer l'ensemble des mois complets entre la date min et la date max\n",
    "all_months = pd.period_range(start=transactions['date'].min(), end=transactions['date'].max(), freq='M')\n",
    "all_months_set = set(all_months)\n",
    "\n",
    "# Identifier les mois manquants\n",
    "missing_months = all_months_set - present_months\n",
    "\n",
    "# Afficher les résultats\n",
    "print(\"Mois manquants:\", missing_months)"
   ]
  },
  {
   "cell_type": "code",
   "execution_count": 41,
   "id": "6f85c8cc",
   "metadata": {},
   "outputs": [
    {
     "data": {
      "text/plain": [
       "True"
      ]
     },
     "execution_count": 41,
     "metadata": {},
     "output_type": "execute_result"
    }
   ],
   "source": [
    "transactions.duplicated().any()"
   ]
  },
  {
   "cell_type": "code",
   "execution_count": 42,
   "id": "dda2c8b9",
   "metadata": {},
   "outputs": [
    {
     "name": "stdout",
     "output_type": "stream",
     "text": [
      "Pourcentage de valeurs manquantes dans chaque colonne :\n",
      "id_prod       34.431586\n",
      "date          34.431586\n",
      "session_id    34.431586\n",
      "client_id     34.431586\n",
      "year_month    34.431586\n",
      "dtype: float64\n"
     ]
    }
   ],
   "source": [
    "# Analyser le pourcentage de valeurs manquantes\n",
    "missing_percentage = transactions.isnull().mean() * 100\n",
    "print(\"Pourcentage de valeurs manquantes dans chaque colonne :\")\n",
    "print(missing_percentage)"
   ]
  },
  {
   "cell_type": "code",
   "execution_count": 43,
   "id": "db99c5fe",
   "metadata": {
    "scrolled": true
   },
   "outputs": [
    {
     "name": "stdout",
     "output_type": "stream",
     "text": [
      "<class 'pandas.core.frame.DataFrame'>\n",
      "Index: 687534 entries, 0 to 687533\n",
      "Data columns (total 5 columns):\n",
      " #   Column      Non-Null Count   Dtype         \n",
      "---  ------      --------------   -----         \n",
      " 0   id_prod     687534 non-null  object        \n",
      " 1   date        687534 non-null  datetime64[ns]\n",
      " 2   session_id  687534 non-null  object        \n",
      " 3   client_id   687534 non-null  object        \n",
      " 4   year_month  687534 non-null  period[M]     \n",
      "dtypes: datetime64[ns](1), object(3), period[M](1)\n",
      "memory usage: 31.5+ MB\n"
     ]
    }
   ],
   "source": [
    "# Supprimer les lignes contenant des valeurs NaN\n",
    "transactions_clean = transactions.dropna()\n",
    "\n",
    "# Vérifier les informations du DataFrame nettoyé\n",
    "transactions_clean.info()"
   ]
  },
  {
   "cell_type": "markdown",
   "id": "20566ce8",
   "metadata": {},
   "source": [
    "## Création du dataframe final"
   ]
  },
  {
   "cell_type": "code",
   "execution_count": 44,
   "id": "1eb04752",
   "metadata": {},
   "outputs": [],
   "source": [
    "merge_1 = pd.merge( customers, transactions_clean, on='client_id', how='right')"
   ]
  },
  {
   "cell_type": "code",
   "execution_count": 45,
   "id": "1c9ae14c",
   "metadata": {},
   "outputs": [
    {
     "name": "stdout",
     "output_type": "stream",
     "text": [
      "<class 'pandas.core.frame.DataFrame'>\n",
      "RangeIndex: 687534 entries, 0 to 687533\n",
      "Data columns (total 9 columns):\n",
      " #   Column       Non-Null Count   Dtype         \n",
      "---  ------       --------------   -----         \n",
      " 0   client_id    687534 non-null  object        \n",
      " 1   sex          687534 non-null  object        \n",
      " 2   birth        687534 non-null  int64         \n",
      " 3   age          687534 non-null  int64         \n",
      " 4   tranche_age  687534 non-null  category      \n",
      " 5   id_prod      687534 non-null  object        \n",
      " 6   date         687534 non-null  datetime64[ns]\n",
      " 7   session_id   687534 non-null  object        \n",
      " 8   year_month   687534 non-null  period[M]     \n",
      "dtypes: category(1), datetime64[ns](1), int64(2), object(4), period[M](1)\n",
      "memory usage: 42.6+ MB\n"
     ]
    }
   ],
   "source": [
    "merge_1.info()"
   ]
  },
  {
   "cell_type": "code",
   "execution_count": 46,
   "id": "12a08e5b",
   "metadata": {},
   "outputs": [
    {
     "name": "stdout",
     "output_type": "stream",
     "text": [
      "\n",
      "Lignes exclues de customers :\n",
      "     client_id sex  birth  age tranche_age\n",
      "801     c_8253   f   2001   23       20-29\n",
      "2483    c_3789   f   1997   27       20-29\n",
      "2734    c_4406   f   1998   26       20-29\n",
      "2768    c_2706   f   1967   57       50-59\n",
      "2850    c_3443   m   1959   65       60-69\n",
      "3178    c_4447   m   1956   68       60-69\n",
      "3189    c_3017   f   1992   32       30-39\n",
      "3333    c_4086   f   1992   32       30-39\n",
      "3720    c_6930   m   2004   20       20-29\n",
      "3820    c_4358   m   1999   25       20-29\n",
      "4723    c_8381   f   1965   59       50-59\n",
      "4790    c_1223   m   1963   61       60-69\n",
      "6111    c_6862   f   2002   22       20-29\n",
      "6207    c_5245   f   2004   20       20-29\n",
      "6337    c_5223   m   2003   21       20-29\n",
      "6470    c_6735   m   2004   20       20-29\n",
      "6584     c_862   f   1956   68       60-69\n",
      "6827    c_7584   f   1960   64       60-69\n",
      "7789      c_90   m   2001   23       20-29\n",
      "7818     c_587   m   1993   31       30-39\n",
      "8534    c_3526   m   1956   68       60-69\n",
      "\n",
      "Lignes exclues de transactions_clean :\n",
      "Empty DataFrame\n",
      "Columns: [id_prod, date, session_id, client_id, year_month]\n",
      "Index: []\n"
     ]
    }
   ],
   "source": [
    "# Vérifier les lignes exclues de customers\n",
    "exclu_customers = customers[~customers['client_id'].isin(merge_1['client_id'])]\n",
    "print(\"\\nLignes exclues de customers :\")\n",
    "print(exclu_customers)\n",
    "\n",
    "# Vérifier les lignes exclues de transactions_clean\n",
    "exclu_transactions = transactions_clean[~transactions_clean['client_id'].isin(merge_1['client_id'])]\n",
    "print(\"\\nLignes exclues de transactions_clean :\")\n",
    "print(exclu_transactions)"
   ]
  },
  {
   "cell_type": "code",
   "execution_count": 47,
   "id": "3977e616",
   "metadata": {},
   "outputs": [],
   "source": [
    "merge_2 = pd.merge (merge_1, products, on='id_prod', how='left')"
   ]
  },
  {
   "cell_type": "code",
   "execution_count": 48,
   "id": "5b62889b",
   "metadata": {},
   "outputs": [
    {
     "name": "stdout",
     "output_type": "stream",
     "text": [
      "<class 'pandas.core.frame.DataFrame'>\n",
      "RangeIndex: 687534 entries, 0 to 687533\n",
      "Data columns (total 11 columns):\n",
      " #   Column       Non-Null Count   Dtype         \n",
      "---  ------       --------------   -----         \n",
      " 0   client_id    687534 non-null  object        \n",
      " 1   sex          687534 non-null  object        \n",
      " 2   birth        687534 non-null  int64         \n",
      " 3   age          687534 non-null  int64         \n",
      " 4   tranche_age  687534 non-null  category      \n",
      " 5   id_prod      687534 non-null  object        \n",
      " 6   date         687534 non-null  datetime64[ns]\n",
      " 7   session_id   687534 non-null  object        \n",
      " 8   year_month   687534 non-null  period[M]     \n",
      " 9   price        687534 non-null  float64       \n",
      " 10  categ        687534 non-null  int64         \n",
      "dtypes: category(1), datetime64[ns](1), float64(1), int64(3), object(4), period[M](1)\n",
      "memory usage: 53.1+ MB\n"
     ]
    }
   ],
   "source": [
    "merge_2.info()"
   ]
  },
  {
   "cell_type": "code",
   "execution_count": 49,
   "id": "a32c7421",
   "metadata": {},
   "outputs": [
    {
     "name": "stdout",
     "output_type": "stream",
     "text": [
      "\n",
      "Lignes exclues de products :\n",
      "     id_prod   price  categ\n",
      "184   0_1016   35.06      0\n",
      "279   0_1780    1.67      0\n",
      "736   0_1062   20.08      0\n",
      "793   0_1119    2.99      0\n",
      "810   0_1014    1.15      0\n",
      "845      1_0   31.82      1\n",
      "1030  0_1318   20.92      0\n",
      "1138  0_1800   22.05      0\n",
      "1346  0_1645    2.99      0\n",
      "1504   0_322    2.99      0\n",
      "1529  0_1620    0.80      0\n",
      "1542  0_1025   24.99      0\n",
      "1708    2_87  220.99      2\n",
      "1862   1_394   39.73      1\n",
      "1945    2_72  141.32      2\n",
      "2214   0_310    1.94      0\n",
      "2407  0_1624   24.50      0\n",
      "2524    2_86  132.36      2\n",
      "2689   0_299   22.99      0\n",
      "3030   0_510   23.66      0\n",
      "3095  0_2308   20.28      0\n"
     ]
    }
   ],
   "source": [
    "# Vérifier les lignes exclues de products\n",
    "exclu_products = products[~products['id_prod'].isin(merge_1['id_prod'])]\n",
    "print(\"\\nLignes exclues de products :\")\n",
    "print(exclu_products)"
   ]
  },
  {
   "cell_type": "code",
   "execution_count": 50,
   "id": "24680de3",
   "metadata": {},
   "outputs": [
    {
     "data": {
      "text/html": [
       "<div>\n",
       "<style scoped>\n",
       "    .dataframe tbody tr th:only-of-type {\n",
       "        vertical-align: middle;\n",
       "    }\n",
       "\n",
       "    .dataframe tbody tr th {\n",
       "        vertical-align: top;\n",
       "    }\n",
       "\n",
       "    .dataframe thead th {\n",
       "        text-align: right;\n",
       "    }\n",
       "</style>\n",
       "<table border=\"1\" class=\"dataframe\">\n",
       "  <thead>\n",
       "    <tr style=\"text-align: right;\">\n",
       "      <th></th>\n",
       "      <th>client_id</th>\n",
       "      <th>sex</th>\n",
       "      <th>birth</th>\n",
       "      <th>age</th>\n",
       "      <th>tranche_age</th>\n",
       "      <th>id_prod</th>\n",
       "      <th>date</th>\n",
       "      <th>session_id</th>\n",
       "      <th>year_month</th>\n",
       "      <th>price</th>\n",
       "      <th>categ</th>\n",
       "    </tr>\n",
       "  </thead>\n",
       "  <tbody>\n",
       "    <tr>\n",
       "      <th>count</th>\n",
       "      <td>687534</td>\n",
       "      <td>687534</td>\n",
       "      <td>687534.000000</td>\n",
       "      <td>687534.000000</td>\n",
       "      <td>687534</td>\n",
       "      <td>687534</td>\n",
       "      <td>687534</td>\n",
       "      <td>687534</td>\n",
       "      <td>687534</td>\n",
       "      <td>687534.000000</td>\n",
       "      <td>687534.000000</td>\n",
       "    </tr>\n",
       "    <tr>\n",
       "      <th>unique</th>\n",
       "      <td>8600</td>\n",
       "      <td>2</td>\n",
       "      <td>NaN</td>\n",
       "      <td>NaN</td>\n",
       "      <td>8</td>\n",
       "      <td>3265</td>\n",
       "      <td>NaN</td>\n",
       "      <td>345505</td>\n",
       "      <td>24</td>\n",
       "      <td>NaN</td>\n",
       "      <td>NaN</td>\n",
       "    </tr>\n",
       "    <tr>\n",
       "      <th>top</th>\n",
       "      <td>c_1609</td>\n",
       "      <td>m</td>\n",
       "      <td>NaN</td>\n",
       "      <td>NaN</td>\n",
       "      <td>40-49</td>\n",
       "      <td>1_369</td>\n",
       "      <td>NaN</td>\n",
       "      <td>s_118668</td>\n",
       "      <td>2021-09</td>\n",
       "      <td>NaN</td>\n",
       "      <td>NaN</td>\n",
       "    </tr>\n",
       "    <tr>\n",
       "      <th>freq</th>\n",
       "      <td>25586</td>\n",
       "      <td>344841</td>\n",
       "      <td>NaN</td>\n",
       "      <td>NaN</td>\n",
       "      <td>235083</td>\n",
       "      <td>2340</td>\n",
       "      <td>NaN</td>\n",
       "      <td>14</td>\n",
       "      <td>33314</td>\n",
       "      <td>NaN</td>\n",
       "      <td>NaN</td>\n",
       "    </tr>\n",
       "    <tr>\n",
       "      <th>mean</th>\n",
       "      <td>NaN</td>\n",
       "      <td>NaN</td>\n",
       "      <td>1977.817391</td>\n",
       "      <td>46.182609</td>\n",
       "      <td>NaN</td>\n",
       "      <td>NaN</td>\n",
       "      <td>2022-03-01 21:24:00.618519296</td>\n",
       "      <td>NaN</td>\n",
       "      <td>NaN</td>\n",
       "      <td>17.493918</td>\n",
       "      <td>0.448789</td>\n",
       "    </tr>\n",
       "    <tr>\n",
       "      <th>min</th>\n",
       "      <td>NaN</td>\n",
       "      <td>NaN</td>\n",
       "      <td>1929.000000</td>\n",
       "      <td>20.000000</td>\n",
       "      <td>NaN</td>\n",
       "      <td>NaN</td>\n",
       "      <td>2021-03-01 00:01:07.843138</td>\n",
       "      <td>NaN</td>\n",
       "      <td>NaN</td>\n",
       "      <td>0.620000</td>\n",
       "      <td>0.000000</td>\n",
       "    </tr>\n",
       "    <tr>\n",
       "      <th>25%</th>\n",
       "      <td>NaN</td>\n",
       "      <td>NaN</td>\n",
       "      <td>1970.000000</td>\n",
       "      <td>37.000000</td>\n",
       "      <td>NaN</td>\n",
       "      <td>NaN</td>\n",
       "      <td>2021-09-10 10:35:20.642323456</td>\n",
       "      <td>NaN</td>\n",
       "      <td>NaN</td>\n",
       "      <td>8.990000</td>\n",
       "      <td>0.000000</td>\n",
       "    </tr>\n",
       "    <tr>\n",
       "      <th>50%</th>\n",
       "      <td>NaN</td>\n",
       "      <td>NaN</td>\n",
       "      <td>1980.000000</td>\n",
       "      <td>44.000000</td>\n",
       "      <td>NaN</td>\n",
       "      <td>NaN</td>\n",
       "      <td>2022-02-27 06:50:25.400120064</td>\n",
       "      <td>NaN</td>\n",
       "      <td>NaN</td>\n",
       "      <td>13.990000</td>\n",
       "      <td>0.000000</td>\n",
       "    </tr>\n",
       "    <tr>\n",
       "      <th>75%</th>\n",
       "      <td>NaN</td>\n",
       "      <td>NaN</td>\n",
       "      <td>1987.000000</td>\n",
       "      <td>54.000000</td>\n",
       "      <td>NaN</td>\n",
       "      <td>NaN</td>\n",
       "      <td>2022-08-28 22:16:49.841665536</td>\n",
       "      <td>NaN</td>\n",
       "      <td>NaN</td>\n",
       "      <td>19.080000</td>\n",
       "      <td>1.000000</td>\n",
       "    </tr>\n",
       "    <tr>\n",
       "      <th>max</th>\n",
       "      <td>NaN</td>\n",
       "      <td>NaN</td>\n",
       "      <td>2004.000000</td>\n",
       "      <td>95.000000</td>\n",
       "      <td>NaN</td>\n",
       "      <td>NaN</td>\n",
       "      <td>2023-02-28 23:58:30.792755</td>\n",
       "      <td>NaN</td>\n",
       "      <td>NaN</td>\n",
       "      <td>300.000000</td>\n",
       "      <td>2.000000</td>\n",
       "    </tr>\n",
       "    <tr>\n",
       "      <th>std</th>\n",
       "      <td>NaN</td>\n",
       "      <td>NaN</td>\n",
       "      <td>13.607935</td>\n",
       "      <td>13.607935</td>\n",
       "      <td>NaN</td>\n",
       "      <td>NaN</td>\n",
       "      <td>NaN</td>\n",
       "      <td>NaN</td>\n",
       "      <td>NaN</td>\n",
       "      <td>18.238337</td>\n",
       "      <td>0.594563</td>\n",
       "    </tr>\n",
       "  </tbody>\n",
       "</table>\n",
       "</div>"
      ],
      "text/plain": [
       "       client_id     sex          birth            age tranche_age id_prod  \\\n",
       "count     687534  687534  687534.000000  687534.000000      687534  687534   \n",
       "unique      8600       2            NaN            NaN           8    3265   \n",
       "top       c_1609       m            NaN            NaN       40-49   1_369   \n",
       "freq       25586  344841            NaN            NaN      235083    2340   \n",
       "mean         NaN     NaN    1977.817391      46.182609         NaN     NaN   \n",
       "min          NaN     NaN    1929.000000      20.000000         NaN     NaN   \n",
       "25%          NaN     NaN    1970.000000      37.000000         NaN     NaN   \n",
       "50%          NaN     NaN    1980.000000      44.000000         NaN     NaN   \n",
       "75%          NaN     NaN    1987.000000      54.000000         NaN     NaN   \n",
       "max          NaN     NaN    2004.000000      95.000000         NaN     NaN   \n",
       "std          NaN     NaN      13.607935      13.607935         NaN     NaN   \n",
       "\n",
       "                                 date session_id year_month          price  \\\n",
       "count                          687534     687534     687534  687534.000000   \n",
       "unique                            NaN     345505         24            NaN   \n",
       "top                               NaN   s_118668    2021-09            NaN   \n",
       "freq                              NaN         14      33314            NaN   \n",
       "mean    2022-03-01 21:24:00.618519296        NaN        NaN      17.493918   \n",
       "min        2021-03-01 00:01:07.843138        NaN        NaN       0.620000   \n",
       "25%     2021-09-10 10:35:20.642323456        NaN        NaN       8.990000   \n",
       "50%     2022-02-27 06:50:25.400120064        NaN        NaN      13.990000   \n",
       "75%     2022-08-28 22:16:49.841665536        NaN        NaN      19.080000   \n",
       "max        2023-02-28 23:58:30.792755        NaN        NaN     300.000000   \n",
       "std                               NaN        NaN        NaN      18.238337   \n",
       "\n",
       "                categ  \n",
       "count   687534.000000  \n",
       "unique            NaN  \n",
       "top               NaN  \n",
       "freq              NaN  \n",
       "mean         0.448789  \n",
       "min          0.000000  \n",
       "25%          0.000000  \n",
       "50%          0.000000  \n",
       "75%          1.000000  \n",
       "max          2.000000  \n",
       "std          0.594563  "
      ]
     },
     "execution_count": 50,
     "metadata": {},
     "output_type": "execute_result"
    }
   ],
   "source": [
    "merge_2.describe(include='all')"
   ]
  },
  {
   "cell_type": "code",
   "execution_count": 51,
   "id": "497977bb",
   "metadata": {},
   "outputs": [],
   "source": [
    "# Exporter le DataFrame en fichier CSV\n",
    "file_path = '/Users/bastienrabane/Library/CloudStorage/OneDrive-Personnel/Documents/OC DATA ANALYST/Projet 9/merge_2.csv'\n",
    "merge_2.to_csv(file_path, index=False)\n"
   ]
  }
 ],
 "metadata": {
  "kernelspec": {
   "display_name": "Python 3 (ipykernel)",
   "language": "python",
   "name": "python3"
  },
  "language_info": {
   "codemirror_mode": {
    "name": "ipython",
    "version": 3
   },
   "file_extension": ".py",
   "mimetype": "text/x-python",
   "name": "python",
   "nbconvert_exporter": "python",
   "pygments_lexer": "ipython3",
   "version": "3.11.5"
  }
 },
 "nbformat": 4,
 "nbformat_minor": 5
}
